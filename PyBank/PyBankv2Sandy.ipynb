{
 "cells": [
  {
   "cell_type": "code",
   "execution_count": 1,
   "metadata": {},
   "outputs": [],
   "source": [
    "#Sandy Python Challenge\n",
    "import os\n",
    "import csv\n",
    "import sys\n",
    "\n",
    "#find path to open file\n",
    "csvpath = os.path.join(\"./Resources/budget_data.csv\")\n",
    "filename = csvpath"
   ]
  },
  {
   "cell_type": "code",
   "execution_count": 21,
   "metadata": {},
   "outputs": [
    {
     "name": "stdout",
     "output_type": "stream",
     "text": [
      "[116771, -662642, -391430, 379920, 212354, 510239, -428211, -821271, 693918, 416278, -974163, 860159, -1115009, 1033048, 95318, -308093, 99052, -521393, 605450, 231727, -65187, -702716, 177975, -1065544, 1926159, -917805, 898730, -334262, -246499, -64055, -1529236, 1497596, 304914, -635801, 398319, -183161, -37864, -253689, 403655, 94168, 306877, -83000, 210462, -2196167, 1465222, -956983, 1838447, -468003, -64602, 206242, -242155, -449079, 315198, 241099, 111540, 365942, -219310, -368665, 409837, 151210, -110244, -341938, -1212159, 683246, -70825, 335594, 417334, -272194, -236462, 657432, -211262, -128237, -1750387, 925441, 932089, -311434, 267252, -1876758, 1733696, 198551, -665765, 693229, -734926, 77242, 532869]\n"
     ]
    }
   ],
   "source": [
    "#using \"with\" open file:\n",
    "with open(filename) as csvfile:\n",
    "    py_data = csv.reader(csvfile, delimiter=\",\")\n",
    "\n",
    "    #create emptylist and start point\n",
    "    profitLoss_amt = 0\n",
    "    greatestProfit = 0\n",
    "    greatestLoss = 0\n",
    "    TotalMonths = 0\n",
    "    total_net = 0\n",
    "    profit_loss = []\n",
    "    \n",
    "    \n",
    "    #header row\n",
    "    header = next(py_data)\n",
    "    first_row = next(py_data)\n",
    "    TotalMonths = TotalMonths + 1\n",
    "    total_net = total_net + int(first_row[1])\n",
    "    prev_net = int(first_row[1])\n",
    "\n",
    "    #for loop to calculate totals for profits and losses\n",
    "    for row in py_data:\n",
    "        TotalMonths = TotalMonths + 1\n",
    "        total_net = total_net + int(row[1])\n",
    "        profitloss_tot = int(row[1]) - prev_net\n",
    "        profit_loss.append(profitloss_amt)\n",
    "        prev_net = int(row[1])\n",
    "        if profitloss_tot > greatestProfit:\n",
    "            greatestProfit = profitloss_tot\n",
    "            greatest_gain_date = row[0]\n",
    "        elif profitloss_amt < greatestLoss:\n",
    "            greatestLoss = profitloss_tot\n",
    "            greatestLoss_date= row[0]\n",
    "print (list(profit_loss))"
   ]
  },
  {
   "cell_type": "code",
   "execution_count": 29,
   "metadata": {},
   "outputs": [
    {
     "name": "stdout",
     "output_type": "stream",
     "text": [
      "Total months: 86 \n",
      "Net profit: $38382578 \n",
      "Average change: $-2315.1176470588234 \n",
      "Greatest gain was $1926159 which occurred Feb-12 \n",
      "Greatest loss was $-2196167 which occurred Sep-13 \n",
      "\n"
     ]
    }
   ],
   "source": [
    "#create defined function to return % \n",
    "def avg(profit_loss):\n",
    "    return sum(profit_loss)/len(profit_loss)\n",
    "\n",
    "totals= (f\"Total months: {total_months} \\n\"\n",
    "f'Net profit: ${total_net} \\n'\n",
    "f\"Average change: ${avg(profit_loss)} \\n\"\n",
    "f\"Greatest gain was ${greatest_profit} which occurred {greatest_gain_date} \\n\"\n",
    "f\"Greatest loss was ${greatest_loss} which occurred {greatest_loss_date} \\n\")\n",
    "print (totals)"
   ]
  },
  {
   "cell_type": "code",
   "execution_count": 12,
   "metadata": {},
   "outputs": [],
   "source": [
    "file_to_output = os.path.join(\"./Resources/budget_output.csv\")\n",
    "with open(file_to_output, \"w\") as txt_file:\n",
    "    txt_file.write(output)"
   ]
  },
  {
   "cell_type": "code",
   "execution_count": null,
   "metadata": {},
   "outputs": [],
   "source": []
  }
 ],
 "metadata": {
  "kernelspec": {
   "display_name": "Python 3",
   "language": "python",
   "name": "python3"
  },
  "language_info": {
   "codemirror_mode": {
    "name": "ipython",
    "version": 3
   },
   "file_extension": ".py",
   "mimetype": "text/x-python",
   "name": "python",
   "nbconvert_exporter": "python",
   "pygments_lexer": "ipython3",
   "version": "3.7.4"
  }
 },
 "nbformat": 4,
 "nbformat_minor": 2
}
