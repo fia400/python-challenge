{
 "cells": [
  {
   "cell_type": "code",
   "execution_count": 1,
   "metadata": {},
   "outputs": [],
   "source": [
    "#Sandy Python Challenge\n",
    "import os\n",
    "import csv\n",
    "import sys\n",
    "\n",
    "#find path to open file\n",
    "csvpath = os.path.join(\"./Resources/election_data.csv\")\n",
    "filename = csvpath"
   ]
  },
  {
   "cell_type": "code",
   "execution_count": 9,
   "metadata": {},
   "outputs": [
    {
     "name": "stdout",
     "output_type": "stream",
     "text": [
      "Election Results \n",
      "----------------------------\n",
      "Khan 63.000% of votes. 2218231 total\n",
      "Correy 20.000% of votes. 704200 total\n",
      "Li 14.000% of votes. 492940 total\n",
      "O'tooley 3.000% of votes. 105630 total\n",
      "Total Votes: 3521002\n",
      "----------------------------\n",
      "Khan is the Winner!\n"
     ]
    }
   ],
   "source": [
    "#use with for efficient file opening\n",
    "with open(filename) as csvfile:\n",
    "    py_data = csv.reader(csvfile, delimiter=\",\")\n",
    "\n",
    "    #create starting point for variables\n",
    "    total_votes=0\n",
    "    Khan=0\n",
    "    Correy=0\n",
    "    Li=0\n",
    "    Otooley=0\n",
    "    Winner=0\n",
    "    \n",
    "    \n",
    "    #create empty list for all candidates\n",
    "    All_Candidates = []\n",
    "\n",
    "    \n",
    "    #create for loop for total votes for candidates\n",
    "    for row in py_data:\n",
    "        total_votes=total_votes + 1\n",
    "        if row[2] not in All_Candidates:\n",
    "            All_Candidates.append(row[2])\n",
    "        if row[2] == \"Khan\":\n",
    "            Khan = Khan + 1\n",
    "        if row[2] == \"Correy\":\n",
    "            Correy = Correy + 1\n",
    "        if row[2] == \"Li\":\n",
    "            Li = Li + 1\n",
    "        if row[2] == \"O'Tooley\":\n",
    "            Otooley= Otooley + 1\n",
    "\n",
    "    #create if statement to signify who won\n",
    "    if Correy > Winner:\n",
    "        Winner = Correy\n",
    "        WinnerName= 'Correy'\n",
    "\n",
    "    if Khan > Winner:\n",
    "        Winner = Khan\n",
    "        WinnerName = 'Khan'\n",
    "\n",
    "    if Li > Winner:\n",
    "        Winner = Li\n",
    "        WinnerName = \"Li\"\n",
    "\n",
    "    if Otooley > Winner:\n",
    "        Winner = Otooley\n",
    "        WinnerName = \"O'Tooley\"\n",
    "\n",
    "    #Calculate percentage of total votes for each candidate\n",
    "    KhanPct = Khan/(total_votes)*100\n",
    "    CorreyPct = Correy/(total_votes)*100\n",
    "    LiPct = Li/(total_votes)*100\n",
    "    OtooleyPct = Otooley/(total_votes)*100\n",
    "\n",
    " \n",
    "    #create variable for the output\n",
    "    output = (\"Election Results \\n\"\n",
    "    \"----------------------------\\n\"\n",
    "    f\"Khan {KhanPct:.3f}% of votes. {Khan} total\\n\"\n",
    "    f\"Correy {CorreyPct:.3f}% of votes. {Correy} total\\n\"\n",
    "    f\"Li {LiPct:.3f}% of votes. {Li} total\\n\"\n",
    "    f\"O'tooley {OtooleyPct:.3f}% of votes. {Otooley} total\\n\"\n",
    "    f\"Total Votes: {total_votes}\\n\"\n",
    "    \"----------------------------\\n\"\n",
    "    f\"{WinnerName} is the Winner!\") \n",
    "\n",
    "    #print output to terminal\n",
    "    print(output)\n",
    "\n"
   ]
  },
  {
   "cell_type": "code",
   "execution_count": 10,
   "metadata": {},
   "outputs": [],
   "source": [
    "file_to_output = os.path.join(\"./Resources/election_output.csv\")\n",
    "with open(file_to_output, \"w\") as txt_file:\n",
    "    txt_file.write(output)"
   ]
  },
  {
   "cell_type": "code",
   "execution_count": null,
   "metadata": {},
   "outputs": [],
   "source": []
  }
 ],
 "metadata": {
  "kernelspec": {
   "display_name": "Python 3",
   "language": "python",
   "name": "python3"
  },
  "language_info": {
   "codemirror_mode": {
    "name": "ipython",
    "version": 3
   },
   "file_extension": ".py",
   "mimetype": "text/x-python",
   "name": "python",
   "nbconvert_exporter": "python",
   "pygments_lexer": "ipython3",
   "version": "3.7.4"
  }
 },
 "nbformat": 4,
 "nbformat_minor": 2
}
